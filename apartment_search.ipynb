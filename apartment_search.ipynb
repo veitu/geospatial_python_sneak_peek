{
 "cells": [
  {
   "cell_type": "markdown",
   "metadata": {},
   "source": [
    "# Apartment search using ORS and Ohsome API \n"
   ]
  },
  {
   "cell_type": "markdown",
   "metadata": {},
   "source": [
    "In this notebook, we will perform a search for a new apartment in Hamburg based on the surrounding amenities. In addition to popular python packages for geospatial data processing such as `geopandas` we will also use the openrouteservice and ohsome APIs.  \n",
    "\n",
    "**Execute each cell one by one first** to see how it works by clicking **the `Run` button** in the menu above or **pressing `Shift` + `Enter`** on your keyboard. Afterwards, go through the notebook again and change some of paramters in the cell where it says \"**Exercise**\" and execute the following cells to run the analysis with different parameters."
   ]
  },
  {
   "cell_type": "markdown",
   "metadata": {},
   "source": [
    "## Some required Python Basics"
   ]
  },
  {
   "cell_type": "markdown",
   "metadata": {},
   "source": [
    "Before we get started, there are some basics in python that you need to understand. In Python there are variables or objects which can hold different types of values. "
   ]
  },
  {
   "cell_type": "markdown",
   "metadata": {},
   "source": [
    "**Numbers** "
   ]
  },
  {
   "cell_type": "code",
   "execution_count": null,
   "metadata": {},
   "outputs": [],
   "source": [
    "x = 5\n",
    "y = 4.2"
   ]
  },
  {
   "cell_type": "code",
   "execution_count": null,
   "metadata": {},
   "outputs": [],
   "source": [
    "x"
   ]
  },
  {
   "cell_type": "code",
   "execution_count": null,
   "metadata": {},
   "outputs": [],
   "source": [
    "y"
   ]
  },
  {
   "cell_type": "markdown",
   "metadata": {},
   "source": [
    "**Characters**"
   ]
  },
  {
   "cell_type": "code",
   "execution_count": null,
   "metadata": {},
   "outputs": [],
   "source": [
    "x = \"hello\""
   ]
  },
  {
   "cell_type": "code",
   "execution_count": null,
   "metadata": {},
   "outputs": [],
   "source": [
    "x"
   ]
  },
  {
   "cell_type": "markdown",
   "metadata": {},
   "source": [
    "**Lists**"
   ]
  },
  {
   "cell_type": "code",
   "execution_count": null,
   "metadata": {},
   "outputs": [],
   "source": [
    "l = [1,2,6]"
   ]
  },
  {
   "cell_type": "code",
   "execution_count": null,
   "metadata": {},
   "outputs": [],
   "source": [
    "l"
   ]
  },
  {
   "cell_type": "markdown",
   "metadata": {},
   "source": [
    "**Dictionaries** consisting of key-value pairs"
   ]
  },
  {
   "cell_type": "code",
   "execution_count": null,
   "metadata": {},
   "outputs": [],
   "source": [
    "d = {\"key\": \"value\"}"
   ]
  },
  {
   "cell_type": "code",
   "execution_count": null,
   "metadata": {},
   "outputs": [],
   "source": [
    "d"
   ]
  },
  {
   "cell_type": "code",
   "execution_count": null,
   "metadata": {},
   "outputs": [],
   "source": [
    "d2 = {\"name\": \"Mona-Lisa\", \n",
    "     \"age\": 516}"
   ]
  },
  {
   "cell_type": "code",
   "execution_count": null,
   "metadata": {},
   "outputs": [],
   "source": [
    "d2"
   ]
  },
  {
   "cell_type": "markdown",
   "metadata": {},
   "source": [
    "**Functions:**  Functions are used to perform operations on the data. "
   ]
  },
  {
   "cell_type": "code",
   "execution_count": null,
   "metadata": {},
   "outputs": [],
   "source": [
    "x = 5\n",
    "y = 7\n",
    "sum([x,y])"
   ]
  },
  {
   "cell_type": "markdown",
   "metadata": {},
   "source": [
    "Python contains some built-in functions such as `sum()`, but they are limited. You can import additional functions from packages. These are the ones that we need for our analysis:"
   ]
  },
  {
   "cell_type": "code",
   "execution_count": 1,
   "metadata": {},
   "outputs": [],
   "source": [
    "\"\"\"These are just some imports, which means loading additional functionalities in Python. We have to import these so-called\n",
    "libraries so we can execute the code below.\"\"\"\n",
    "\n",
    "from ipyleaflet import Map, Marker, GeoData, basemaps,ScaleControl, LayersControl, GeoJSON, LegendControl\n",
    "from ipywidgets import Layout\n",
    "import json\n",
    "import os\n",
    "import pandas as pd\n",
    "import geopandas as gpd\n",
    "import pandas as pd\n",
    "from shapely.geometry import Point\n",
    "import contextily as ctx\n",
    "import matplotlib.patches as mpatches\n",
    "import matplotlib.pyplot as plt\n",
    "from matplotlib_scalebar.scalebar import ScaleBar"
   ]
  },
  {
   "cell_type": "markdown",
   "metadata": {},
   "source": [
    "## Create a list of potential apartments\n",
    "\n",
    "We store the locations of three potential apartments which we may have found online in a dictionary with geographic coordinates."
   ]
  },
  {
   "cell_type": "markdown",
   "metadata": {},
   "source": [
    "**Exercise:** Change the coordinates of the locations or add additinal ones to the dictionary and run the analysis again.  "
   ]
  },
  {
   "cell_type": "code",
   "execution_count": 2,
   "metadata": {},
   "outputs": [],
   "source": [
    "apartments = {'0': {'location': [9.981727, 53.552018]}, # longitude, latitude\n",
    "              '1': {'location': [9.921727, 53.552018]},\n",
    "              '2': {'location': [9.981727, 53.572018]}}"
   ]
  },
  {
   "cell_type": "markdown",
   "metadata": {},
   "source": [
    "Let's convert it into a table."
   ]
  },
  {
   "cell_type": "code",
   "execution_count": 3,
   "metadata": {},
   "outputs": [],
   "source": [
    "apartments_df = gpd.GeoDataFrame().from_dict(apartments, orient=\"index\")\n",
    "apartments_df[\"geometry\"] = apartments_df.location.map(lambda x: Point(x[0], x[1]))"
   ]
  },
  {
   "cell_type": "code",
   "execution_count": 4,
   "metadata": {},
   "outputs": [
    {
     "data": {
      "text/html": [
       "<div>\n",
       "<style scoped>\n",
       "    .dataframe tbody tr th:only-of-type {\n",
       "        vertical-align: middle;\n",
       "    }\n",
       "\n",
       "    .dataframe tbody tr th {\n",
       "        vertical-align: top;\n",
       "    }\n",
       "\n",
       "    .dataframe thead th {\n",
       "        text-align: right;\n",
       "    }\n",
       "</style>\n",
       "<table border=\"1\" class=\"dataframe\">\n",
       "  <thead>\n",
       "    <tr style=\"text-align: right;\">\n",
       "      <th></th>\n",
       "      <th>location</th>\n",
       "      <th>geometry</th>\n",
       "    </tr>\n",
       "  </thead>\n",
       "  <tbody>\n",
       "    <tr>\n",
       "      <th>0</th>\n",
       "      <td>[9.981727, 53.552018]</td>\n",
       "      <td>POINT (9.98173 53.55202)</td>\n",
       "    </tr>\n",
       "    <tr>\n",
       "      <th>1</th>\n",
       "      <td>[9.921727, 53.552018]</td>\n",
       "      <td>POINT (9.92173 53.55202)</td>\n",
       "    </tr>\n",
       "    <tr>\n",
       "      <th>2</th>\n",
       "      <td>[9.981727, 53.572018]</td>\n",
       "      <td>POINT (9.98173 53.57202)</td>\n",
       "    </tr>\n",
       "  </tbody>\n",
       "</table>\n",
       "</div>"
      ],
      "text/plain": [
       "                location                  geometry\n",
       "0  [9.981727, 53.552018]  POINT (9.98173 53.55202)\n",
       "1  [9.921727, 53.552018]  POINT (9.92173 53.55202)\n",
       "2  [9.981727, 53.572018]  POINT (9.98173 53.57202)"
      ]
     },
     "execution_count": 4,
     "metadata": {},
     "output_type": "execute_result"
    }
   ],
   "source": [
    "apartments_df"
   ]
  },
  {
   "cell_type": "markdown",
   "metadata": {},
   "source": [
    "### Map of apartments"
   ]
  },
  {
   "cell_type": "code",
   "execution_count": 5,
   "metadata": {},
   "outputs": [
    {
     "data": {
      "application/vnd.jupyter.widget-view+json": {
       "model_id": "d101756741da4e86b789058a9295f981",
       "version_major": 2,
       "version_minor": 0
      },
      "text/plain": [
       "Map(center=[53.558684666666664, 9.961727], controls=(ZoomControl(options=['position', 'zoom_in_text', 'zoom_in…"
      ]
     },
     "metadata": {},
     "output_type": "display_data"
    }
   ],
   "source": [
    "# Create map with basemap\n",
    "map_center = list(apartments_df.dissolve().centroid[0].coords)[0]\n",
    "m = Map(center=map_center[::-1], zoom=13, scroll_wheel_zoom=True, basemap=basemaps.CartoDB.Positron)\n",
    "\n",
    "# Add appartments as points\n",
    "apartment_layer = GeoData(geo_dataframe = apartments_df,\n",
    "    style={'color': 'black', \n",
    "           'radius':8, \n",
    "           'fillColor': '#3366cc', \n",
    "           'opacity':0.5, \n",
    "           'weight':1.9, \n",
    "           'dashArray':'2', \n",
    "           'fillOpacity':0.6},\n",
    "    hover_style={'fillColor': 'red' , \n",
    "                 'fillOpacity': 0.2},\n",
    "    point_style={'radius': 5, \n",
    "                 'color': 'red', \n",
    "                 'fillOpacity': 0.8, \n",
    "                 'fillColor': 'blue', \n",
    "                 'weight': 3},\n",
    "    name = 'Apartments')\n",
    "m.add_layer(apartment_layer)\n",
    "\n",
    "# Add a scale to map \n",
    "m.add_control(ScaleControl(position='bottomleft'))\n",
    "# Add layer control \n",
    "control = LayersControl(position='topright')\n",
    "m.add_control(control)\n",
    "\n",
    "display(m)"
   ]
  },
  {
   "cell_type": "markdown",
   "metadata": {},
   "source": [
    "## Count number of restaurants nearby each apartment\n",
    "\n",
    "Let's assume it is very important to you that you have many restaurants within a short walk of your apartment. So we will count how many restaurants are within a 10 minutes walking time of each apartment. There are two steps: \n",
    "\n",
    "1. Calculate the area within 10 minutes walking time around each apartment using openrouteservice isochrones\n",
    "2. Downloading and counting the restaurants from OpenStreetMap using the ohsome API. "
   ]
  },
  {
   "cell_type": "markdown",
   "metadata": {},
   "source": [
    "### 1. Create isochrones around each apartment"
   ]
  },
  {
   "cell_type": "markdown",
   "metadata": {},
   "source": [
    "First, we will request the isochrones around each apartment and visualize them in the map. For details about the parameters see the [ORS documentation](https://openrouteservice.org/dev/#/api-docs/isochrones). Play around with the settings to find out what each variable is for."
   ]
  },
  {
   "cell_type": "markdown",
   "metadata": {},
   "source": [
    "In order to use the OpenRouteSerive API, you need to [create an account and generate a free API key](https://openrouteservice.org/dev/#/login). You can use your github account for it."
   ]
  },
  {
   "cell_type": "code",
   "execution_count": 6,
   "metadata": {},
   "outputs": [],
   "source": [
    "from openrouteservice import client"
   ]
  },
  {
   "cell_type": "code",
   "execution_count": 7,
   "metadata": {},
   "outputs": [],
   "source": [
    "ors_api_key = '5b3ce3597851110001cf6248eef794d1244544f7826f417356aee9e4' #Replace this with your own personal ORS API key"
   ]
  },
  {
   "cell_type": "code",
   "execution_count": 8,
   "metadata": {},
   "outputs": [],
   "source": [
    "ors_client = client.Client(key=ors_api_key) "
   ]
  },
  {
   "cell_type": "markdown",
   "metadata": {},
   "source": [
    "**Exercise:** Switch the routing profile to cycling by replacing `foot-walking` with `cycling-regular` and reduce the range of the isochrones to 5 minutes. Then run the cells below again to create new isochrones."
   ]
  },
  {
   "cell_type": "code",
   "execution_count": 9,
   "metadata": {},
   "outputs": [],
   "source": [
    "ors_settings = {'profile': 'foot-walking', # ORS routing profile\n",
    "              'range': [600], # Max range of isochrones in sec if range_type=time\n",
    "              'range_type':  'time', # Type of isochones: time or distance\n",
    "              'attributes': ['area'], # Get area of each isochrone\n",
    "              'locations' : list(apartments_df.location)\n",
    "             }"
   ]
  },
  {
   "cell_type": "code",
   "execution_count": 10,
   "metadata": {},
   "outputs": [],
   "source": [
    "isochrones = ors_client.isochrones(**ors_settings) "
   ]
  },
  {
   "cell_type": "markdown",
   "metadata": {},
   "source": [
    "**Calculate the area of the isochrones**\n",
    "\n",
    "How big is the area that we can reach from our potential apartments within a 10 minute walk? To find out, we first create a dataframe from the isochrones layer."
   ]
  },
  {
   "cell_type": "code",
   "execution_count": 11,
   "metadata": {},
   "outputs": [],
   "source": [
    "isochones_df = gpd.GeoDataFrame.from_features(isochrones['features'], crs=\"epsg:4326\")"
   ]
  },
  {
   "cell_type": "markdown",
   "metadata": {},
   "source": [
    "The coordinate system of the isochrones dataframe is WGS 84. We can get more information on the coordinate system the following way:"
   ]
  },
  {
   "cell_type": "code",
   "execution_count": 12,
   "metadata": {},
   "outputs": [
    {
     "data": {
      "text/plain": [
       "<Geographic 2D CRS: EPSG:4326>\n",
       "Name: WGS 84\n",
       "Axis Info [ellipsoidal]:\n",
       "- Lat[north]: Geodetic latitude (degree)\n",
       "- Lon[east]: Geodetic longitude (degree)\n",
       "Area of Use:\n",
       "- name: World.\n",
       "- bounds: (-180.0, -90.0, 180.0, 90.0)\n",
       "Datum: World Geodetic System 1984 ensemble\n",
       "- Ellipsoid: WGS 84\n",
       "- Prime Meridian: Greenwich"
      ]
     },
     "execution_count": 12,
     "metadata": {},
     "output_type": "execute_result"
    }
   ],
   "source": [
    "isochones_df.crs"
   ]
  },
  {
   "cell_type": "markdown",
   "metadata": {},
   "source": [
    "The unit of the coordinates is degree, so to be able to calculate the area, we first have to reproject the isochrones to a projected coordinate system. Let's reprojetc them to UTM zone 32N."
   ]
  },
  {
   "cell_type": "code",
   "execution_count": 13,
   "metadata": {},
   "outputs": [
    {
     "data": {
      "text/plain": [
       "<Derived Projected CRS: EPSG:25832>\n",
       "Name: ETRS89 / UTM zone 32N\n",
       "Axis Info [cartesian]:\n",
       "- E[east]: Easting (metre)\n",
       "- N[north]: Northing (metre)\n",
       "Area of Use:\n",
       "- name: Europe between 6°E and 12°E: Austria; Belgium; Denmark - onshore and offshore; Germany - onshore and offshore; Norway including - onshore and offshore; Spain - offshore.\n",
       "- bounds: (6.0, 38.76, 12.01, 84.33)\n",
       "Coordinate Operation:\n",
       "- name: UTM zone 32N\n",
       "- method: Transverse Mercator\n",
       "Datum: European Terrestrial Reference System 1989 ensemble\n",
       "- Ellipsoid: GRS 1980\n",
       "- Prime Meridian: Greenwich"
      ]
     },
     "execution_count": 13,
     "metadata": {},
     "output_type": "execute_result"
    }
   ],
   "source": [
    "isochrones_projected = isochones_df.to_crs(epsg=25832)\n",
    "isochrones_projected.crs"
   ]
  },
  {
   "cell_type": "markdown",
   "metadata": {},
   "source": [
    "Now, we can simply calculate the area of the isochrones and save it in a new column in the dataframe."
   ]
  },
  {
   "cell_type": "code",
   "execution_count": 14,
   "metadata": {},
   "outputs": [
    {
     "data": {
      "text/html": [
       "<div>\n",
       "<style scoped>\n",
       "    .dataframe tbody tr th:only-of-type {\n",
       "        vertical-align: middle;\n",
       "    }\n",
       "\n",
       "    .dataframe tbody tr th {\n",
       "        vertical-align: top;\n",
       "    }\n",
       "\n",
       "    .dataframe thead th {\n",
       "        text-align: right;\n",
       "    }\n",
       "</style>\n",
       "<table border=\"1\" class=\"dataframe\">\n",
       "  <thead>\n",
       "    <tr style=\"text-align: right;\">\n",
       "      <th></th>\n",
       "      <th>geometry</th>\n",
       "      <th>group_index</th>\n",
       "      <th>value</th>\n",
       "      <th>center</th>\n",
       "      <th>area</th>\n",
       "      <th>area [km²]</th>\n",
       "    </tr>\n",
       "  </thead>\n",
       "  <tbody>\n",
       "    <tr>\n",
       "      <th>0</th>\n",
       "      <td>POLYGON ((564364.969 5934020.572, 564392.857 5...</td>\n",
       "      <td>0</td>\n",
       "      <td>600.0</td>\n",
       "      <td>[9.98175290826924, 53.55215598915689]</td>\n",
       "      <td>1423431.84</td>\n",
       "      <td>1.43</td>\n",
       "    </tr>\n",
       "    <tr>\n",
       "      <th>1</th>\n",
       "      <td>POLYGON ((560314.082 5933953.591, 560408.661 5...</td>\n",
       "      <td>1</td>\n",
       "      <td>600.0</td>\n",
       "      <td>[9.921641683317162, 53.55202787113252]</td>\n",
       "      <td>1301684.70</td>\n",
       "      <td>1.30</td>\n",
       "    </tr>\n",
       "    <tr>\n",
       "      <th>2</th>\n",
       "      <td>POLYGON ((564374.106 5935948.308, 564384.864 5...</td>\n",
       "      <td>2</td>\n",
       "      <td>600.0</td>\n",
       "      <td>[9.981587050051512, 53.57205631007921]</td>\n",
       "      <td>1503191.38</td>\n",
       "      <td>1.51</td>\n",
       "    </tr>\n",
       "  </tbody>\n",
       "</table>\n",
       "</div>"
      ],
      "text/plain": [
       "                                            geometry  group_index  value  \\\n",
       "0  POLYGON ((564364.969 5934020.572, 564392.857 5...            0  600.0   \n",
       "1  POLYGON ((560314.082 5933953.591, 560408.661 5...            1  600.0   \n",
       "2  POLYGON ((564374.106 5935948.308, 564384.864 5...            2  600.0   \n",
       "\n",
       "                                   center        area  area [km²]  \n",
       "0   [9.98175290826924, 53.55215598915689]  1423431.84        1.43  \n",
       "1  [9.921641683317162, 53.55202787113252]  1301684.70        1.30  \n",
       "2  [9.981587050051512, 53.57205631007921]  1503191.38        1.51  "
      ]
     },
     "execution_count": 14,
     "metadata": {},
     "output_type": "execute_result"
    }
   ],
   "source": [
    "isochrones_projected[\"area [km²]\"] = (isochrones_projected.area/1000000).round(2)\n",
    "isochrones_projected"
   ]
  },
  {
   "cell_type": "markdown",
   "metadata": {},
   "source": [
    "Oh look, the area was already saved in the isochrones dataframe. So we can see that our calculated area is correct."
   ]
  },
  {
   "cell_type": "markdown",
   "metadata": {
    "tags": []
   },
   "source": [
    "#### Map with apartments and isochrones"
   ]
  },
  {
   "cell_type": "code",
   "execution_count": 15,
   "metadata": {},
   "outputs": [
    {
     "data": {
      "application/vnd.jupyter.widget-view+json": {
       "model_id": "cd45d4daf8784c7bab5074470d68a439",
       "version_major": 2,
       "version_minor": 0
      },
      "text/plain": [
       "Map(center=[53.558684666666664, 9.961727], controls=(ZoomControl(options=['position', 'zoom_in_text', 'zoom_in…"
      ]
     },
     "metadata": {},
     "output_type": "display_data"
    }
   ],
   "source": [
    "# Create map with basemap (available basemaps: https://ipyleaflet.readthedocs.io/en/latest/map_and_basemaps/basemaps.html)\n",
    "m = Map(center=map_center[::-1], zoom=13, scroll_wheel_zoom=True, basemap=basemaps.CartoDB.Positron)\n",
    "\n",
    "# Add isochrones \n",
    "isochones_layer = GeoJSON(\n",
    "    data=isochrones,\n",
    "    style={\n",
    "        'opacity': 1, 'dashArray': '9', 'fillOpacity': 0.1, 'weight': 1\n",
    "    },\n",
    "    hover_style={\n",
    "        'color': 'white', 'dashArray': '0', 'fillOpacity': 0.5\n",
    "    })\n",
    "m.add_layer(isochones_layer)\n",
    "\n",
    "# Add appartments as points\n",
    "apartment_layer = GeoData(geo_dataframe = apartments_df,\n",
    "    style={'color': 'black', \n",
    "           'radius':8, \n",
    "           'fillColor': '#3366cc', \n",
    "           'opacity':0.5, \n",
    "           'weight':1.9, \n",
    "           'dashArray':'2', \n",
    "           'fillOpacity':0.6},\n",
    "    hover_style={'fillColor': 'red' , \n",
    "                 'fillOpacity': 0.2},\n",
    "    point_style={'radius': 5, \n",
    "                 'color': 'red', \n",
    "                 'fillOpacity': 0.8, \n",
    "                 'fillColor': 'blue', \n",
    "                 'weight': 3},\n",
    "    name = 'Apartments')\n",
    "m.add_layer(apartment_layer)\n",
    "\n",
    "# Add a scale to map \n",
    "m.add_control(ScaleControl(position='bottomleft'))\n",
    "\n",
    "control = LayersControl(position='topright')\n",
    "m.add_control(control)\n",
    "\n",
    "display(m)"
   ]
  },
  {
   "cell_type": "markdown",
   "metadata": {},
   "source": [
    "## 2. Number of restaurants nearby apartments using Ohsome API\n",
    "Now that we created the isochrones, we want to know how many restaurants there are in the neighbourhood. For this purpose, we will use the Ohsome API. "
   ]
  },
  {
   "cell_type": "code",
   "execution_count": 16,
   "metadata": {},
   "outputs": [],
   "source": [
    "import ohsome\n",
    "ohsome_client = ohsome.OhsomeClient()"
   ]
  },
  {
   "cell_type": "markdown",
   "metadata": {},
   "source": [
    "### 2.1. Download restaurants as features to visualize them on the map"
   ]
  },
  {
   "cell_type": "markdown",
   "metadata": {},
   "source": [
    "**Exercise:** Set a different tag in the the `osm_filter`. "
   ]
  },
  {
   "cell_type": "code",
   "execution_count": 17,
   "metadata": {},
   "outputs": [],
   "source": [
    "osm_filer = \"amenity=restaurant\""
   ]
  },
  {
   "cell_type": "markdown",
   "metadata": {},
   "source": [
    "Now, we use a post request in Ohsome to download the restaurants within our isochrones from OSM. We save the restaurants in a dataframe called `restaurants_df`."
   ]
  },
  {
   "cell_type": "code",
   "execution_count": 18,
   "metadata": {},
   "outputs": [],
   "source": [
    "restaurant_features = ohsome_client.elements.centroid.post(bpolys=json.dumps(isochrones),\n",
    "                                                           properties=\"tags\",\n",
    "                                                             filter=osm_filer)\n",
    "restaurants_df = restaurant_features.as_dataframe()"
   ]
  },
  {
   "cell_type": "markdown",
   "metadata": {},
   "source": [
    "How do the data look?"
   ]
  },
  {
   "cell_type": "code",
   "execution_count": 19,
   "metadata": {
    "scrolled": true
   },
   "outputs": [
    {
     "data": {
      "text/html": [
       "<div>\n",
       "<style scoped>\n",
       "    .dataframe tbody tr th:only-of-type {\n",
       "        vertical-align: middle;\n",
       "    }\n",
       "\n",
       "    .dataframe tbody tr th {\n",
       "        vertical-align: top;\n",
       "    }\n",
       "\n",
       "    .dataframe thead th {\n",
       "        text-align: right;\n",
       "    }\n",
       "</style>\n",
       "<table border=\"1\" class=\"dataframe\">\n",
       "  <thead>\n",
       "    <tr style=\"text-align: right;\">\n",
       "      <th></th>\n",
       "      <th></th>\n",
       "      <th>geometry</th>\n",
       "      <th>addr:country</th>\n",
       "      <th>addr:housename</th>\n",
       "      <th>addr:housenumber</th>\n",
       "      <th>addr:postcode</th>\n",
       "      <th>addr:street</th>\n",
       "      <th>air_conditioning</th>\n",
       "      <th>alt_name</th>\n",
       "      <th>amenity</th>\n",
       "      <th>architect</th>\n",
       "      <th>...</th>\n",
       "      <th>opening_hours:kitchen</th>\n",
       "      <th>entrance</th>\n",
       "      <th>dine_in</th>\n",
       "      <th>addr:suburb</th>\n",
       "      <th>bettundbike</th>\n",
       "      <th>organic</th>\n",
       "      <th>tourism</th>\n",
       "      <th>diet:gluten_free</th>\n",
       "      <th>source</th>\n",
       "      <th>fixme</th>\n",
       "    </tr>\n",
       "    <tr>\n",
       "      <th>@osmId</th>\n",
       "      <th>@snapshotTimestamp</th>\n",
       "      <th></th>\n",
       "      <th></th>\n",
       "      <th></th>\n",
       "      <th></th>\n",
       "      <th></th>\n",
       "      <th></th>\n",
       "      <th></th>\n",
       "      <th></th>\n",
       "      <th></th>\n",
       "      <th></th>\n",
       "      <th></th>\n",
       "      <th></th>\n",
       "      <th></th>\n",
       "      <th></th>\n",
       "      <th></th>\n",
       "      <th></th>\n",
       "      <th></th>\n",
       "      <th></th>\n",
       "      <th></th>\n",
       "      <th></th>\n",
       "      <th></th>\n",
       "    </tr>\n",
       "  </thead>\n",
       "  <tbody>\n",
       "    <tr>\n",
       "      <th>node/10073919677</th>\n",
       "      <th>2023-01-29 21:00:00</th>\n",
       "      <td>POINT (9.98019 53.56867)</td>\n",
       "      <td>NaN</td>\n",
       "      <td>NaN</td>\n",
       "      <td>NaN</td>\n",
       "      <td>NaN</td>\n",
       "      <td>NaN</td>\n",
       "      <td>NaN</td>\n",
       "      <td>NaN</td>\n",
       "      <td>restaurant</td>\n",
       "      <td>NaN</td>\n",
       "      <td>...</td>\n",
       "      <td>NaN</td>\n",
       "      <td>NaN</td>\n",
       "      <td>NaN</td>\n",
       "      <td>NaN</td>\n",
       "      <td>NaN</td>\n",
       "      <td>NaN</td>\n",
       "      <td>NaN</td>\n",
       "      <td>NaN</td>\n",
       "      <td>NaN</td>\n",
       "      <td>NaN</td>\n",
       "    </tr>\n",
       "    <tr>\n",
       "      <th>node/10106658736</th>\n",
       "      <th>2023-01-29 21:00:00</th>\n",
       "      <td>POINT (9.99079 53.55062)</td>\n",
       "      <td>NaN</td>\n",
       "      <td>NaN</td>\n",
       "      <td>NaN</td>\n",
       "      <td>NaN</td>\n",
       "      <td>NaN</td>\n",
       "      <td>NaN</td>\n",
       "      <td>NaN</td>\n",
       "      <td>restaurant</td>\n",
       "      <td>NaN</td>\n",
       "      <td>...</td>\n",
       "      <td>NaN</td>\n",
       "      <td>NaN</td>\n",
       "      <td>NaN</td>\n",
       "      <td>NaN</td>\n",
       "      <td>NaN</td>\n",
       "      <td>NaN</td>\n",
       "      <td>NaN</td>\n",
       "      <td>NaN</td>\n",
       "      <td>NaN</td>\n",
       "      <td>NaN</td>\n",
       "    </tr>\n",
       "    <tr>\n",
       "      <th>node/10121414284</th>\n",
       "      <th>2023-01-29 21:00:00</th>\n",
       "      <td>POINT (9.98746 53.55304)</td>\n",
       "      <td>NaN</td>\n",
       "      <td>NaN</td>\n",
       "      <td>10</td>\n",
       "      <td>NaN</td>\n",
       "      <td>Hohe Bleichen</td>\n",
       "      <td>NaN</td>\n",
       "      <td>NaN</td>\n",
       "      <td>restaurant</td>\n",
       "      <td>NaN</td>\n",
       "      <td>...</td>\n",
       "      <td>NaN</td>\n",
       "      <td>NaN</td>\n",
       "      <td>NaN</td>\n",
       "      <td>NaN</td>\n",
       "      <td>NaN</td>\n",
       "      <td>NaN</td>\n",
       "      <td>NaN</td>\n",
       "      <td>NaN</td>\n",
       "      <td>NaN</td>\n",
       "      <td>NaN</td>\n",
       "    </tr>\n",
       "    <tr>\n",
       "      <th>node/10269219209</th>\n",
       "      <th>2023-01-29 21:00:00</th>\n",
       "      <td>POINT (9.98314 53.57047)</td>\n",
       "      <td>NaN</td>\n",
       "      <td>NaN</td>\n",
       "      <td>34</td>\n",
       "      <td>NaN</td>\n",
       "      <td>Rutschbahn</td>\n",
       "      <td>NaN</td>\n",
       "      <td>NaN</td>\n",
       "      <td>restaurant</td>\n",
       "      <td>NaN</td>\n",
       "      <td>...</td>\n",
       "      <td>NaN</td>\n",
       "      <td>NaN</td>\n",
       "      <td>NaN</td>\n",
       "      <td>NaN</td>\n",
       "      <td>NaN</td>\n",
       "      <td>NaN</td>\n",
       "      <td>NaN</td>\n",
       "      <td>NaN</td>\n",
       "      <td>NaN</td>\n",
       "      <td>NaN</td>\n",
       "    </tr>\n",
       "    <tr>\n",
       "      <th>node/10316530231</th>\n",
       "      <th>2023-01-29 21:00:00</th>\n",
       "      <td>POINT (9.99051 53.55520)</td>\n",
       "      <td>NaN</td>\n",
       "      <td>NaN</td>\n",
       "      <td>NaN</td>\n",
       "      <td>NaN</td>\n",
       "      <td>NaN</td>\n",
       "      <td>NaN</td>\n",
       "      <td>NaN</td>\n",
       "      <td>restaurant</td>\n",
       "      <td>NaN</td>\n",
       "      <td>...</td>\n",
       "      <td>NaN</td>\n",
       "      <td>NaN</td>\n",
       "      <td>NaN</td>\n",
       "      <td>NaN</td>\n",
       "      <td>NaN</td>\n",
       "      <td>NaN</td>\n",
       "      <td>NaN</td>\n",
       "      <td>NaN</td>\n",
       "      <td>NaN</td>\n",
       "      <td>NaN</td>\n",
       "    </tr>\n",
       "  </tbody>\n",
       "</table>\n",
       "<p>5 rows × 108 columns</p>\n",
       "</div>"
      ],
      "text/plain": [
       "                                                      geometry addr:country  \\\n",
       "@osmId           @snapshotTimestamp                                           \n",
       "node/10073919677 2023-01-29 21:00:00  POINT (9.98019 53.56867)          NaN   \n",
       "node/10106658736 2023-01-29 21:00:00  POINT (9.99079 53.55062)          NaN   \n",
       "node/10121414284 2023-01-29 21:00:00  POINT (9.98746 53.55304)          NaN   \n",
       "node/10269219209 2023-01-29 21:00:00  POINT (9.98314 53.57047)          NaN   \n",
       "node/10316530231 2023-01-29 21:00:00  POINT (9.99051 53.55520)          NaN   \n",
       "\n",
       "                                     addr:housename addr:housenumber  \\\n",
       "@osmId           @snapshotTimestamp                                    \n",
       "node/10073919677 2023-01-29 21:00:00            NaN              NaN   \n",
       "node/10106658736 2023-01-29 21:00:00            NaN              NaN   \n",
       "node/10121414284 2023-01-29 21:00:00            NaN               10   \n",
       "node/10269219209 2023-01-29 21:00:00            NaN               34   \n",
       "node/10316530231 2023-01-29 21:00:00            NaN              NaN   \n",
       "\n",
       "                                     addr:postcode    addr:street  \\\n",
       "@osmId           @snapshotTimestamp                                 \n",
       "node/10073919677 2023-01-29 21:00:00           NaN            NaN   \n",
       "node/10106658736 2023-01-29 21:00:00           NaN            NaN   \n",
       "node/10121414284 2023-01-29 21:00:00           NaN  Hohe Bleichen   \n",
       "node/10269219209 2023-01-29 21:00:00           NaN     Rutschbahn   \n",
       "node/10316530231 2023-01-29 21:00:00           NaN            NaN   \n",
       "\n",
       "                                     air_conditioning alt_name     amenity  \\\n",
       "@osmId           @snapshotTimestamp                                          \n",
       "node/10073919677 2023-01-29 21:00:00              NaN      NaN  restaurant   \n",
       "node/10106658736 2023-01-29 21:00:00              NaN      NaN  restaurant   \n",
       "node/10121414284 2023-01-29 21:00:00              NaN      NaN  restaurant   \n",
       "node/10269219209 2023-01-29 21:00:00              NaN      NaN  restaurant   \n",
       "node/10316530231 2023-01-29 21:00:00              NaN      NaN  restaurant   \n",
       "\n",
       "                                     architect  ... opening_hours:kitchen  \\\n",
       "@osmId           @snapshotTimestamp             ...                         \n",
       "node/10073919677 2023-01-29 21:00:00       NaN  ...                   NaN   \n",
       "node/10106658736 2023-01-29 21:00:00       NaN  ...                   NaN   \n",
       "node/10121414284 2023-01-29 21:00:00       NaN  ...                   NaN   \n",
       "node/10269219209 2023-01-29 21:00:00       NaN  ...                   NaN   \n",
       "node/10316530231 2023-01-29 21:00:00       NaN  ...                   NaN   \n",
       "\n",
       "                                     entrance dine_in addr:suburb bettundbike  \\\n",
       "@osmId           @snapshotTimestamp                                             \n",
       "node/10073919677 2023-01-29 21:00:00      NaN     NaN         NaN         NaN   \n",
       "node/10106658736 2023-01-29 21:00:00      NaN     NaN         NaN         NaN   \n",
       "node/10121414284 2023-01-29 21:00:00      NaN     NaN         NaN         NaN   \n",
       "node/10269219209 2023-01-29 21:00:00      NaN     NaN         NaN         NaN   \n",
       "node/10316530231 2023-01-29 21:00:00      NaN     NaN         NaN         NaN   \n",
       "\n",
       "                                     organic tourism diet:gluten_free source  \\\n",
       "@osmId           @snapshotTimestamp                                            \n",
       "node/10073919677 2023-01-29 21:00:00     NaN     NaN              NaN    NaN   \n",
       "node/10106658736 2023-01-29 21:00:00     NaN     NaN              NaN    NaN   \n",
       "node/10121414284 2023-01-29 21:00:00     NaN     NaN              NaN    NaN   \n",
       "node/10269219209 2023-01-29 21:00:00     NaN     NaN              NaN    NaN   \n",
       "node/10316530231 2023-01-29 21:00:00     NaN     NaN              NaN    NaN   \n",
       "\n",
       "                                     fixme  \n",
       "@osmId           @snapshotTimestamp         \n",
       "node/10073919677 2023-01-29 21:00:00   NaN  \n",
       "node/10106658736 2023-01-29 21:00:00   NaN  \n",
       "node/10121414284 2023-01-29 21:00:00   NaN  \n",
       "node/10269219209 2023-01-29 21:00:00   NaN  \n",
       "node/10316530231 2023-01-29 21:00:00   NaN  \n",
       "\n",
       "[5 rows x 108 columns]"
      ]
     },
     "execution_count": 19,
     "metadata": {},
     "output_type": "execute_result"
    }
   ],
   "source": [
    "restaurants_df.head()"
   ]
  },
  {
   "cell_type": "markdown",
   "metadata": {},
   "source": [
    "### 2.2. Intersect isochrones with restaurants and count them"
   ]
  },
  {
   "cell_type": "markdown",
   "metadata": {},
   "source": [
    "We intersect the dataframe `isochrones_df` that we have created earlier with the dataframe `restaurants_df` containing the restaurants, hereby counting the restaurants in each isochrone. The number of restaurants in each isochrone is then saved in the dataframe `apartments_df`."
   ]
  },
  {
   "cell_type": "code",
   "execution_count": null,
   "metadata": {},
   "outputs": [],
   "source": [
    "isochrone_restaurants = gpd.sjoin(restaurants_df, isochones_df, how=\"left\").groupby(\"group_index\").count()\n",
    "apartments_df[\"restaurants\"] = list(isochrone_restaurants[\"amenity\"])"
   ]
  },
  {
   "cell_type": "code",
   "execution_count": null,
   "metadata": {},
   "outputs": [],
   "source": [
    "apartments_df"
   ]
  },
  {
   "cell_type": "markdown",
   "metadata": {},
   "source": [
    "### Alternative:  Count number of restaurants within isochrones using ohsome API"
   ]
  },
  {
   "cell_type": "markdown",
   "metadata": {},
   "source": [
    "Alternatively, we could have calculated the number of restauratans within in each isochrone also using the ohsome API directly without downloading the restaurant features. "
   ]
  },
  {
   "cell_type": "code",
   "execution_count": null,
   "metadata": {},
   "outputs": [],
   "source": [
    "response = ohsome_client.elements.count.groupByBoundary.post(bpolys=json.dumps(isochrones),\n",
    "                                                             filter=\"amenity=restaurant\")\n",
    "restaurants = response.as_dataframe()[\"value\"]\n",
    "apartments_df[\"restaurants_ohsome\"] = list(restaurants)"
   ]
  },
  {
   "cell_type": "code",
   "execution_count": null,
   "metadata": {},
   "outputs": [],
   "source": [
    "apartments_df"
   ]
  },
  {
   "cell_type": "markdown",
   "metadata": {},
   "source": [
    "### Map with apartments and restaurants using ipyleaflet basemap"
   ]
  },
  {
   "cell_type": "markdown",
   "metadata": {},
   "source": [
    "**Exercise:** You may adapt the style of the final map by changing some of the parameters, e.g. the color or radius of the points in the dictionary, e.g. set `'radius':5`. You may also change the basemap by replacing the value of `basemap=basemaps.CartoDB.Positron` in the first two lines e.g. set it to `basemap=basemaps.OpenStreetMap.Mapnik`. Refer to the documentation for [available basemaps](https://ipyleaflet.readthedocs.io/en/latest/map_and_basemaps/basemaps.html)."
   ]
  },
  {
   "cell_type": "code",
   "execution_count": null,
   "metadata": {},
   "outputs": [],
   "source": [
    "# Create map with basemap (available basemaps: https://ipyleaflet.readthedocs.io/en/latest/api_reference/basemaps.html)\n",
    "m = Map(center=map_center[::-1], zoom=13, scroll_wheel_zoom=True, layout=Layout(width='100%', height='500px'),\n",
    "        basemap=basemaps.CartoDB.Positron)\n",
    "\n",
    "# Add isochrones \n",
    "isochones_layer = GeoJSON(\n",
    "    data=isochrones,\n",
    "    style={\n",
    "        'opacity': 1, 'dashArray': '9', 'fillOpacity': 0.1, 'weight': 1, 'fillColor': '#1166cc'\n",
    "    },\n",
    "    hover_style={\n",
    "        'color': 'white', 'dashArray': '0', 'fillOpacity': 0.5\n",
    "    })\n",
    "m.add_layer(isochones_layer)\n",
    "\n",
    "# Add apartments as points\n",
    "apartment_layer = GeoData(geo_dataframe = apartments_df,\n",
    "    style={'color': 'black', \n",
    "           'radius':8, \n",
    "           'fillColor': '#3366cc', \n",
    "           'opacity':0.5, \n",
    "           'weight':1.9, \n",
    "           'dashArray':'2', \n",
    "           'fillOpacity':0.6},\n",
    "    hover_style={'fillColor': 'red' , \n",
    "                 'fillOpacity': 0.2},\n",
    "    point_style={'radius': 5, \n",
    "                 'color': 'red', \n",
    "                 'fillOpacity': 0.8, \n",
    "                 'fillColor': 'blue', \n",
    "                 'weight': 3},\n",
    "    name = 'Apartments')\n",
    "m.add_layer(apartment_layer)\n",
    "\n",
    "# Add restaurants as points\n",
    "restaurants_layer = GeoData(geo_dataframe = restaurants_df,\n",
    "    style={'color': 'black', \n",
    "           'radius':4, \n",
    "           'fillColor': 'red', \n",
    "           'opacity':0.5, \n",
    "           'weight':1.9, \n",
    "           'dashArray':'2', \n",
    "           'fillOpacity':0.6},\n",
    "    hover_style={'fillColor': 'red' , \n",
    "                 'fillOpacity': 0.2},\n",
    "    point_style={'radius': 5, \n",
    "                 'color': 'red', \n",
    "                 'fillOpacity': 0.8, \n",
    "                 'fillColor': 'blue', \n",
    "                 'weight': 3},\n",
    "    name = 'Restaurants')\n",
    "\n",
    "m.add_layer(restaurants_layer)\n",
    "\n",
    "# Add a scale to map \n",
    "m.add_control(ScaleControl(position='bottomleft'))\n",
    "\n",
    "control = LayersControl(position='topright')\n",
    "m.add_control(control)\n",
    "\n",
    "# Add legend\n",
    "legend = LegendControl({\"Apartments\":\"#3366cc\", \n",
    "                        \"Restaurants\":\"red\", \n",
    "                        \"Isochrones [10 min]\":\"#c5e8ef\"}, name=\"Legend\", position=\"bottomright\")\n",
    "m.add_control(legend)\n",
    "\n",
    "display(m)"
   ]
  },
  {
   "cell_type": "markdown",
   "metadata": {},
   "source": [
    "### Alternative: Map with apartments and restaurants using contextily"
   ]
  },
  {
   "cell_type": "markdown",
   "metadata": {},
   "source": [
    "**Exercise:** Here, you may also adapt the style of the final map by changing some of the parameters, e.g. the color or radius of the points, e.g. set `markersize=100`. You may also change the basemap by replacing the value of `source=ctx.providers.Stamen.Terrain` in the last line, e.g. set it to `source=ctx.providers.OpenStreetMap.Mapnik`. Refer to the documentation for [available basemaps](https://contextily.readthedocs.io/en/latest/intro_guide.html#Providers)."
   ]
  },
  {
   "cell_type": "code",
   "execution_count": null,
   "metadata": {},
   "outputs": [],
   "source": [
    "# Set CRS of dataframes\n",
    "apartments_df = apartments_df.set_crs('epsg:4326')\n",
    "restaurants_df = restaurants_df.set_crs('epsg:4326')\n",
    "\n",
    "# Reproject dataframes to web mercator\n",
    "isochones_wm = isochones_df.to_crs(epsg=3857)\n",
    "apartments_wm = apartments_df.to_crs(epsg=3857)\n",
    "restaurants_wm = restaurants_df.to_crs(epsg=3857)\n",
    "\n",
    "# Create map\n",
    "ax = isochones_wm.plot(figsize=(15, 15), alpha=0.2, edgecolor='k')\n",
    "apartments_wm.plot(ax=ax, alpha=0.6, color='blue', edgecolor='k', markersize=200)\n",
    "restaurants_wm.plot(ax=ax, alpha=0.6, color='red', edgecolor='k', markersize=50)\n",
    "\n",
    "# Set map extent\n",
    "xlim = ([1100000, 1116000])\n",
    "ylim = ([7083000, 7092000])\n",
    "ax.set_xlim(xlim)\n",
    "ax.set_ylim(ylim)\n",
    "\n",
    "# Add legend\n",
    "blue_patch = mpatches.Patch(color='blue', alpha=0.6, label='Apartments')\n",
    "red_patch = mpatches.Patch(color='red', alpha=0.6, label='Restaurants')\n",
    "lb_patch = mpatches.Patch(color='lightskyblue', alpha=0.6, label='Isochrones [10 min]')\n",
    "ax.legend(handles=[blue_patch, red_patch, lb_patch], loc='lower right')\n",
    "\n",
    "# Add scale bar\n",
    "ax.add_artist(ScaleBar(1))\n",
    "\n",
    "# Add basemap\n",
    "ctx.add_basemap(ax, source=ctx.providers.Stamen.Terrain)"
   ]
  },
  {
   "cell_type": "code",
   "execution_count": null,
   "metadata": {},
   "outputs": [],
   "source": []
  }
 ],
 "metadata": {
  "kernelspec": {
   "display_name": "Python 3 (ipykernel)",
   "language": "python",
   "name": "python3"
  },
  "language_info": {
   "codemirror_mode": {
    "name": "ipython",
    "version": 3
   },
   "file_extension": ".py",
   "mimetype": "text/x-python",
   "name": "python",
   "nbconvert_exporter": "python",
   "pygments_lexer": "ipython3",
   "version": "3.9.16"
  }
 },
 "nbformat": 4,
 "nbformat_minor": 4
}
